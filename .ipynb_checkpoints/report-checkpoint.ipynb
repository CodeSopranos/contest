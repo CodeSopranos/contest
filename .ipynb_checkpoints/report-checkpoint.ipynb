{
 "cells": [
  {
   "cell_type": "markdown",
   "metadata": {},
   "source": [
    "**рынок**: Китай\n",
    "**период**: 2018 год\n",
    "\n",
    "Седунов Илья, \n",
    "Альперович Вадим, \n",
    "Славутин Александр, \n",
    "\n",
    "17ПМИ."
   ]
  },
  {
   "cell_type": "code",
   "execution_count": 1,
   "metadata": {},
   "outputs": [],
   "source": [
    "import numpy as np\n",
    "import pandas as pd\n",
    "import yfinance as yf\n",
    "import matplotlib.pyplot as plt\n",
    "from tqdm import tqdm_notebook\n",
    "import warnings\n",
    "import seaborn as sns\n",
    "from seaborn import set_style\n",
    "set_style('dark')\n",
    "warnings.simplefilter('ignore')"
   ]
  },
  {
   "cell_type": "code",
   "execution_count": 13,
   "metadata": {},
   "outputs": [
    {
     "name": "stdout",
     "output_type": "stream",
     "text": [
      "NASDAQ ticker symbols =  30\n"
     ]
    }
   ],
   "source": [
    "df = pd.read_csv('data/top30_nasdaq_symbols.csv')\n",
    "symbols = list(df['Symbol'])\n",
    "print('NASDAQ ticker symbols = ', len(symbols))"
   ]
  },
  {
   "cell_type": "code",
   "execution_count": 17,
   "metadata": {},
   "outputs": [
    {
     "name": "stdout",
     "output_type": "stream",
     "text": [
      "Акции собраны!\n"
     ]
    }
   ],
   "source": [
    "from IPython.display import clear_output\n",
    "\n",
    "start = \"2020-04-01\"\n",
    "end   = \"2020-10-29\"\n",
    "stocks = {}\n",
    "\n",
    "for ind, symbol in enumerate(tqdm_notebook(symbols)):\n",
    "    stock = yf.download(symbol, start=start, end=end, progress=False)\n",
    "    if stock[~np.isnan(stock['Close'])].shape[0] < 110:\n",
    "        print('Drop because of nan values', symbol)\n",
    "        continue\n",
    "    stock['names']\n",
    "    stock['return'] = stock['Close'] / stock['Close'].shift(1)\n",
    "    stock['log_return'] = np.log(stock['return'])\n",
    "    stocks[symbol] = stock\n",
    "clear_output()\n",
    "print('Акции собраны!')"
   ]
  },
  {
   "cell_type": "code",
   "execution_count": 22,
   "metadata": {},
   "outputs": [
    {
     "name": "stdout",
     "output_type": "stream",
     "text": [
      "Исторические данные для актива NMRD\n"
     ]
    },
    {
     "data": {
      "text/html": [
       "<div>\n",
       "<style scoped>\n",
       "    .dataframe tbody tr th:only-of-type {\n",
       "        vertical-align: middle;\n",
       "    }\n",
       "\n",
       "    .dataframe tbody tr th {\n",
       "        vertical-align: top;\n",
       "    }\n",
       "\n",
       "    .dataframe thead th {\n",
       "        text-align: right;\n",
       "    }\n",
       "</style>\n",
       "<table border=\"1\" class=\"dataframe\">\n",
       "  <thead>\n",
       "    <tr style=\"text-align: right;\">\n",
       "      <th></th>\n",
       "      <th>Open</th>\n",
       "      <th>High</th>\n",
       "      <th>Low</th>\n",
       "      <th>Close</th>\n",
       "      <th>Adj Close</th>\n",
       "      <th>Volume</th>\n",
       "      <th>return</th>\n",
       "      <th>log_return</th>\n",
       "    </tr>\n",
       "    <tr>\n",
       "      <th>Date</th>\n",
       "      <th></th>\n",
       "      <th></th>\n",
       "      <th></th>\n",
       "      <th></th>\n",
       "      <th></th>\n",
       "      <th></th>\n",
       "      <th></th>\n",
       "      <th></th>\n",
       "    </tr>\n",
       "  </thead>\n",
       "  <tbody>\n",
       "    <tr>\n",
       "      <th>2020-10-28</th>\n",
       "      <td>3.64</td>\n",
       "      <td>3.715</td>\n",
       "      <td>3.55</td>\n",
       "      <td>3.64</td>\n",
       "      <td>3.64</td>\n",
       "      <td>13800</td>\n",
       "      <td>0.983784</td>\n",
       "      <td>-0.016349</td>\n",
       "    </tr>\n",
       "  </tbody>\n",
       "</table>\n",
       "</div>"
      ],
      "text/plain": [
       "            Open   High   Low  Close  Adj Close  Volume    return  log_return\n",
       "Date                                                                         \n",
       "2020-10-28  3.64  3.715  3.55   3.64       3.64   13800  0.983784   -0.016349"
      ]
     },
     "execution_count": 22,
     "metadata": {},
     "output_type": "execute_result"
    }
   ],
   "source": [
    "print('Исторические данные для актива', symbols[1])\n",
    "stocks[symbols[1]].tail(1)"
   ]
  },
  {
   "cell_type": "code",
   "execution_count": 24,
   "metadata": {},
   "outputs": [],
   "source": [
    "# удаление пустых записей\n",
    "\n",
    "for symbol in symbols:\n",
    "    try:\n",
    "        stocks[symbol] = stocks[symbol].dropna()\n",
    "    except:\n",
    "        continue"
   ]
  },
  {
   "cell_type": "code",
   "execution_count": 25,
   "metadata": {},
   "outputs": [
    {
     "data": {
      "application/vnd.jupyter.widget-view+json": {
       "model_id": "cc10dcc70ca54fe9916cdb7aafa1974e",
       "version_major": 2,
       "version_minor": 0
      },
      "text/plain": [
       "HBox(children=(HTML(value=''), FloatProgress(value=0.0, max=30.0), HTML(value='')))"
      ]
     },
     "metadata": {},
     "output_type": "display_data"
    },
    {
     "name": "stdout",
     "output_type": "stream",
     "text": [
      "\n"
     ]
    }
   ],
   "source": [
    "# сбор общей статистики\n",
    "\n",
    "stock_stat = pd.DataFrame(columns=['symbol',  'E', 'Sigma', 'mean_vol', 'n_observations'])\n",
    "for symbol in tqdm_notebook(symbols):\n",
    "    try:\n",
    "        stock = stocks[symbol].dropna()\n",
    "        stock_stat.loc[symbol] = [symbol,\n",
    "                                  stock['log_return'].mean(),\n",
    "                                  stock['log_return'].std(), \n",
    "                                  stock['Volume'].mean(), \n",
    "                                  len(stock)]\n",
    "    except:\n",
    "        continue"
   ]
  },
  {
   "cell_type": "code",
   "execution_count": 27,
   "metadata": {},
   "outputs": [
    {
     "name": "stdout",
     "output_type": "stream",
     "text": [
      "Осталось активов после обработки 28\n"
     ]
    }
   ],
   "source": [
    "stock_stat.dropna(inplace=True)\n",
    "print('Осталось активов после обработки', len(stock_stat))"
   ]
  },
  {
   "cell_type": "code",
   "execution_count": 28,
   "metadata": {},
   "outputs": [
    {
     "name": "stdout",
     "output_type": "stream",
     "text": [
      "IXIC index\n"
     ]
    },
    {
     "data": {
      "text/html": [
       "<div>\n",
       "<style scoped>\n",
       "    .dataframe tbody tr th:only-of-type {\n",
       "        vertical-align: middle;\n",
       "    }\n",
       "\n",
       "    .dataframe tbody tr th {\n",
       "        vertical-align: top;\n",
       "    }\n",
       "\n",
       "    .dataframe thead th {\n",
       "        text-align: right;\n",
       "    }\n",
       "</style>\n",
       "<table border=\"1\" class=\"dataframe\">\n",
       "  <thead>\n",
       "    <tr style=\"text-align: right;\">\n",
       "      <th></th>\n",
       "      <th>Open</th>\n",
       "      <th>High</th>\n",
       "      <th>Low</th>\n",
       "      <th>Close</th>\n",
       "      <th>Adj Close</th>\n",
       "      <th>Volume</th>\n",
       "      <th>return</th>\n",
       "      <th>log_return</th>\n",
       "    </tr>\n",
       "    <tr>\n",
       "      <th>Date</th>\n",
       "      <th></th>\n",
       "      <th></th>\n",
       "      <th></th>\n",
       "      <th></th>\n",
       "      <th></th>\n",
       "      <th></th>\n",
       "      <th></th>\n",
       "      <th></th>\n",
       "    </tr>\n",
       "  </thead>\n",
       "  <tbody>\n",
       "    <tr>\n",
       "      <th>2020-04-01</th>\n",
       "      <td>7459.500000</td>\n",
       "      <td>7566.370117</td>\n",
       "      <td>7301.979980</td>\n",
       "      <td>7360.580078</td>\n",
       "      <td>7360.580078</td>\n",
       "      <td>3685510000</td>\n",
       "      <td>0.955907</td>\n",
       "      <td>-0.045095</td>\n",
       "    </tr>\n",
       "    <tr>\n",
       "      <th>2020-04-02</th>\n",
       "      <td>7317.450195</td>\n",
       "      <td>7501.700195</td>\n",
       "      <td>7307.950195</td>\n",
       "      <td>7487.310059</td>\n",
       "      <td>7487.310059</td>\n",
       "      <td>3608190000</td>\n",
       "      <td>1.017217</td>\n",
       "      <td>0.017071</td>\n",
       "    </tr>\n",
       "  </tbody>\n",
       "</table>\n",
       "</div>"
      ],
      "text/plain": [
       "                   Open         High          Low        Close    Adj Close  \\\n",
       "Date                                                                          \n",
       "2020-04-01  7459.500000  7566.370117  7301.979980  7360.580078  7360.580078   \n",
       "2020-04-02  7317.450195  7501.700195  7307.950195  7487.310059  7487.310059   \n",
       "\n",
       "                Volume    return  log_return  \n",
       "Date                                          \n",
       "2020-04-01  3685510000  0.955907   -0.045095  \n",
       "2020-04-02  3608190000  1.017217    0.017071  "
      ]
     },
     "execution_count": 28,
     "metadata": {},
     "output_type": "execute_result"
    }
   ],
   "source": [
    "# IXIC index\n",
    "\n",
    "ixic = yf.download('^IXIC', start=start, end=end, progress=False)\n",
    "ixic['return'] = ixic['Close'] / ixic['Close'].shift(1)\n",
    "ixic['log_return'] = np.log(ixic['return'])\n",
    "ixic.dropna(inplace=True)\n",
    "print('IXIC index')\n",
    "ixic.head(2)"
   ]
  },
  {
   "cell_type": "code",
   "execution_count": 30,
   "metadata": {},
   "outputs": [
    {
     "data": {
      "application/vnd.jupyter.widget-view+json": {
       "model_id": "b1d1e554adf94064897d6ca327bc7221",
       "version_major": 2,
       "version_minor": 0
      },
      "text/plain": [
       "HBox(children=(HTML(value=''), FloatProgress(value=0.0, max=31.0), HTML(value='')))"
      ]
     },
     "metadata": {},
     "output_type": "display_data"
    },
    {
     "name": "stdout",
     "output_type": "stream",
     "text": [
      "\n"
     ]
    },
    {
     "ename": "ValueError",
     "evalue": "not enough values to unpack (expected 3, got 2)",
     "output_type": "error",
     "traceback": [
      "\u001b[1;31m---------------------------------------------------------------------------\u001b[0m",
      "\u001b[1;31mValueError\u001b[0m                                Traceback (most recent call last)",
      "\u001b[1;32m<ipython-input-30-efc97fbfdc5c>\u001b[0m in \u001b[0;36m<module>\u001b[1;34m\u001b[0m\n\u001b[0;32m      6\u001b[0m \u001b[1;33m\u001b[0m\u001b[0m\n\u001b[0;32m      7\u001b[0m \u001b[1;32mfor\u001b[0m \u001b[0mindex\u001b[0m\u001b[1;33m,\u001b[0m \u001b[0mrow\u001b[0m \u001b[1;32min\u001b[0m \u001b[0mtqdm_notebook\u001b[0m\u001b[1;33m(\u001b[0m\u001b[0msse_components\u001b[0m\u001b[1;33m.\u001b[0m\u001b[0miterrows\u001b[0m\u001b[1;33m(\u001b[0m\u001b[1;33m)\u001b[0m\u001b[1;33m,\u001b[0m \u001b[0mtotal\u001b[0m\u001b[1;33m=\u001b[0m\u001b[0mlen\u001b[0m\u001b[1;33m(\u001b[0m\u001b[0msse_components\u001b[0m\u001b[1;33m)\u001b[0m\u001b[1;33m)\u001b[0m\u001b[1;33m:\u001b[0m\u001b[1;33m\u001b[0m\u001b[0m\n\u001b[1;32m----> 8\u001b[1;33m     \u001b[0mname\u001b[0m\u001b[1;33m,\u001b[0m \u001b[0mindustry\u001b[0m\u001b[1;33m,\u001b[0m \u001b[0msymbol\u001b[0m \u001b[1;33m=\u001b[0m \u001b[0mrow\u001b[0m\u001b[1;33m\u001b[0m\u001b[0m\n\u001b[0m\u001b[0;32m      9\u001b[0m     \u001b[1;32mif\u001b[0m \u001b[1;33m(\u001b[0m\u001b[0mname\u001b[0m \u001b[1;33m!=\u001b[0m \u001b[1;34m'Index'\u001b[0m \u001b[1;32mand\u001b[0m \u001b[0mname\u001b[0m \u001b[1;33m!=\u001b[0m \u001b[1;34m'Bank of China Limited'\u001b[0m\u001b[1;33m)\u001b[0m\u001b[1;33m:\u001b[0m\u001b[1;33m\u001b[0m\u001b[0m\n\u001b[0;32m     10\u001b[0m         \u001b[0msymbol\u001b[0m \u001b[1;33m=\u001b[0m \u001b[0mstr\u001b[0m\u001b[1;33m(\u001b[0m\u001b[0msymbol\u001b[0m\u001b[1;33m)\u001b[0m \u001b[1;33m+\u001b[0m \u001b[1;34m'.SS'\u001b[0m\u001b[1;33m\u001b[0m\u001b[0m\n",
      "\u001b[1;31mValueError\u001b[0m: not enough values to unpack (expected 3, got 2)"
     ]
    }
   ],
   "source": [
    "start = \"2020-04-01\"\n",
    "end   = \"2020-10-29\"\n",
    "sse_components = pd.read_csv('data/top30_nasdaq_symbols.csv', names=['name','symbol'])\n",
    "sse_stat = pd.DataFrame(columns=['names', 'industry', 'E', 'Sigma', 'mean_vol', 'n_observations'])\n",
    "sse_stocks = {}\n",
    "\n",
    "for index, row in tqdm_notebook(sse_components.iterrows(), total=len(sse_components)):\n",
    "    name, symbol = row\n",
    "    if (name != 'Index' and name != 'Bank of China Limited'):\n",
    "        symbol = str(symbol) + '.SS'\n",
    "    sse_stock = yf.download(symbol, start, end, progress=False)\n",
    "    sse_stock['return'] = sse_stock['Close'] / sse_stock['Close'].shift(1)\n",
    "    sse_stock['log_return'] = np.log(sse_stock['return'])\n",
    "    sse_stock = sse_stock.dropna()\n",
    "    sse_stocks[symbol] = sse_stock\n",
    "    sse_stat.loc[symbol] = [name,\n",
    "                           sse_stock['log_return'].mean(),\n",
    "                           sse_stock['log_return'].std(),\n",
    "                           sse_stock['Volume'].mean(),\n",
    "                           len(sse_stock)]\n"
   ]
  }
 ],
 "metadata": {
  "kernelspec": {
   "display_name": "Python 3",
   "language": "python",
   "name": "python3"
  },
  "language_info": {
   "codemirror_mode": {
    "name": "ipython",
    "version": 3
   },
   "file_extension": ".py",
   "mimetype": "text/x-python",
   "name": "python",
   "nbconvert_exporter": "python",
   "pygments_lexer": "ipython3",
   "version": "3.7.0"
  }
 },
 "nbformat": 4,
 "nbformat_minor": 4
}
