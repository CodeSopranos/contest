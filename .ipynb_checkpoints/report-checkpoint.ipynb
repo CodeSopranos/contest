{
 "cells": [
  {
   "cell_type": "markdown",
   "metadata": {},
   "source": [
    "**рынок**: США\n",
    "\n",
    "**период**: 2020 год\n",
    "\n",
    "Седунов Илья,\n",
    "\n",
    "Альперович Вадим, \n",
    "\n",
    "Славутин Александр, \n",
    "\n",
    "17ПМИ."
   ]
  },
  {
   "cell_type": "markdown",
   "metadata": {},
   "source": [
    "### 1. Сбор данных NASDAQ : 2020-04-01 - 2020-10-29"
   ]
  },
  {
   "cell_type": "code",
   "execution_count": 1,
   "metadata": {},
   "outputs": [],
   "source": [
    "import numpy as np\n",
    "import pandas as pd\n",
    "import yfinance as yf\n",
    "import matplotlib.pyplot as plt\n",
    "from tqdm import tqdm_notebook\n",
    "import warnings\n",
    "import seaborn as sns\n",
    "from seaborn import set_style\n",
    "set_style('dark')\n",
    "warnings.simplefilter('ignore')"
   ]
  },
  {
   "cell_type": "code",
   "execution_count": 5,
   "metadata": {},
   "outputs": [
    {
     "data": {
      "application/vnd.jupyter.widget-view+json": {
       "model_id": "cadeec60bf904cb3a994a88f3bd1b592",
       "version_major": 2,
       "version_minor": 0
      },
      "text/plain": [
       "HBox(children=(FloatProgress(value=0.0, max=30.0), HTML(value='')))"
      ]
     },
     "metadata": {},
     "output_type": "display_data"
    },
    {
     "name": "stdout",
     "output_type": "stream",
     "text": [
      "\n"
     ]
    }
   ],
   "source": [
    "start = \"2020-04-01\"\n",
    "end   = \"2020-10-30\"\n",
    "ixic_components = pd.read_csv('data/top30_nasdaq_symbols.csv')\n",
    "ixic_stat = pd.DataFrame(columns=['names', 'E', 'Sigma', 'mean_vol', 'n_observations'])\n",
    "ixic_stocks = {}\n",
    "\n",
    "for index, row in tqdm_notebook(ixic_components.iterrows(), total=len(ixic_components)):\n",
    "    symbol, name = row\n",
    "    ixic_stock = yf.download(symbol, start=start, end=end, progress=False)\n",
    "    ixic_stock['return'] = ixic_stock['Close'] / ixic_stock['Close'].shift(1)\n",
    "    ixic_stock['log_return'] = np.log(ixic_stock['return'])\n",
    "    ixic_stock = ixic_stock.dropna()\n",
    "    ixic_stocks[symbol] = ixic_stock\n",
    "    ixic_stat.loc[symbol] = [name,\n",
    "                           ixic_stock['log_return'].mean(),\n",
    "                           ixic_stock['log_return'].std(),\n",
    "                           ixic_stock['Volume'].mean(),\n",
    "                           len(ixic_stock)]\n",
    "ixic_stat['symbol'] = ixic_stat.index"
   ]
  },
  {
   "cell_type": "code",
   "execution_count": 6,
   "metadata": {},
   "outputs": [
    {
     "name": "stdout",
     "output_type": "stream",
     "text": [
      "IXIC index\n"
     ]
    },
    {
     "data": {
      "text/html": [
       "<div>\n",
       "<style scoped>\n",
       "    .dataframe tbody tr th:only-of-type {\n",
       "        vertical-align: middle;\n",
       "    }\n",
       "\n",
       "    .dataframe tbody tr th {\n",
       "        vertical-align: top;\n",
       "    }\n",
       "\n",
       "    .dataframe thead th {\n",
       "        text-align: right;\n",
       "    }\n",
       "</style>\n",
       "<table border=\"1\" class=\"dataframe\">\n",
       "  <thead>\n",
       "    <tr style=\"text-align: right;\">\n",
       "      <th></th>\n",
       "      <th>Open</th>\n",
       "      <th>High</th>\n",
       "      <th>Low</th>\n",
       "      <th>Close</th>\n",
       "      <th>Adj Close</th>\n",
       "      <th>Volume</th>\n",
       "      <th>return</th>\n",
       "      <th>log_return</th>\n",
       "    </tr>\n",
       "    <tr>\n",
       "      <th>Date</th>\n",
       "      <th></th>\n",
       "      <th></th>\n",
       "      <th></th>\n",
       "      <th></th>\n",
       "      <th></th>\n",
       "      <th></th>\n",
       "      <th></th>\n",
       "      <th></th>\n",
       "    </tr>\n",
       "  </thead>\n",
       "  <tbody>\n",
       "    <tr>\n",
       "      <th>2020-04-01</th>\n",
       "      <td>7459.500000</td>\n",
       "      <td>7566.370117</td>\n",
       "      <td>7301.979980</td>\n",
       "      <td>7360.580078</td>\n",
       "      <td>7360.580078</td>\n",
       "      <td>3685510000</td>\n",
       "      <td>0.955907</td>\n",
       "      <td>-0.045095</td>\n",
       "    </tr>\n",
       "    <tr>\n",
       "      <th>2020-04-02</th>\n",
       "      <td>7317.450195</td>\n",
       "      <td>7501.700195</td>\n",
       "      <td>7307.950195</td>\n",
       "      <td>7487.310059</td>\n",
       "      <td>7487.310059</td>\n",
       "      <td>3608190000</td>\n",
       "      <td>1.017217</td>\n",
       "      <td>0.017071</td>\n",
       "    </tr>\n",
       "  </tbody>\n",
       "</table>\n",
       "</div>"
      ],
      "text/plain": [
       "                   Open         High          Low        Close    Adj Close  \\\n",
       "Date                                                                          \n",
       "2020-04-01  7459.500000  7566.370117  7301.979980  7360.580078  7360.580078   \n",
       "2020-04-02  7317.450195  7501.700195  7307.950195  7487.310059  7487.310059   \n",
       "\n",
       "                Volume    return  log_return  \n",
       "Date                                          \n",
       "2020-04-01  3685510000  0.955907   -0.045095  \n",
       "2020-04-02  3608190000  1.017217    0.017071  "
      ]
     },
     "execution_count": 6,
     "metadata": {},
     "output_type": "execute_result"
    }
   ],
   "source": [
    "# # IXIC index\n",
    "\n",
    "ixic = yf.download('^IXIC', start=start, end=end, progress=False)\n",
    "ixic['return'] = ixic['Close'] / ixic['Close'].shift(1)\n",
    "ixic['log_return'] = np.log(ixic['return'])\n",
    "ixic.dropna(inplace=True)\n",
    "print('IXIC index')\n",
    "ixic.head(2)"
   ]
  },
  {
   "cell_type": "code",
   "execution_count": 7,
   "metadata": {},
   "outputs": [
    {
     "data": {
      "text/html": [
       "<div>\n",
       "<style scoped>\n",
       "    .dataframe tbody tr th:only-of-type {\n",
       "        vertical-align: middle;\n",
       "    }\n",
       "\n",
       "    .dataframe tbody tr th {\n",
       "        vertical-align: top;\n",
       "    }\n",
       "\n",
       "    .dataframe thead th {\n",
       "        text-align: right;\n",
       "    }\n",
       "</style>\n",
       "<table border=\"1\" class=\"dataframe\">\n",
       "  <thead>\n",
       "    <tr style=\"text-align: right;\">\n",
       "      <th></th>\n",
       "      <th>names</th>\n",
       "      <th>E</th>\n",
       "      <th>Sigma</th>\n",
       "      <th>mean_vol</th>\n",
       "      <th>n_observations</th>\n",
       "      <th>symbol</th>\n",
       "      <th>sharp</th>\n",
       "    </tr>\n",
       "  </thead>\n",
       "  <tbody>\n",
       "    <tr>\n",
       "      <th>OPTT</th>\n",
       "      <td>Ocean Power Technologies Inc</td>\n",
       "      <td>0.010764</td>\n",
       "      <td>0.103097</td>\n",
       "      <td>5.458718e+06</td>\n",
       "      <td>148</td>\n",
       "      <td>OPTT</td>\n",
       "      <td>0.104408</td>\n",
       "    </tr>\n",
       "    <tr>\n",
       "      <th>NMRD</th>\n",
       "      <td>Nemaura Medical Inc.</td>\n",
       "      <td>-0.003255</td>\n",
       "      <td>0.071546</td>\n",
       "      <td>5.629865e+04</td>\n",
       "      <td>148</td>\n",
       "      <td>NMRD</td>\n",
       "      <td>-0.045489</td>\n",
       "    </tr>\n",
       "    <tr>\n",
       "      <th>FNKO</th>\n",
       "      <td>Funko Inc.</td>\n",
       "      <td>0.003318</td>\n",
       "      <td>0.055569</td>\n",
       "      <td>8.634486e+05</td>\n",
       "      <td>148</td>\n",
       "      <td>FNKO</td>\n",
       "      <td>0.059712</td>\n",
       "    </tr>\n",
       "    <tr>\n",
       "      <th>KLXE</th>\n",
       "      <td>KLX Energy Services Holdings Inc.</td>\n",
       "      <td>0.000851</td>\n",
       "      <td>0.094137</td>\n",
       "      <td>4.595615e+05</td>\n",
       "      <td>148</td>\n",
       "      <td>KLXE</td>\n",
       "      <td>0.009044</td>\n",
       "    </tr>\n",
       "    <tr>\n",
       "      <th>BBI</th>\n",
       "      <td>Brickell Biotech Inc.</td>\n",
       "      <td>-0.005465</td>\n",
       "      <td>0.072325</td>\n",
       "      <td>1.785730e+06</td>\n",
       "      <td>148</td>\n",
       "      <td>BBI</td>\n",
       "      <td>-0.075563</td>\n",
       "    </tr>\n",
       "    <tr>\n",
       "      <th>WMG</th>\n",
       "      <td>Warner Music Group Corp.</td>\n",
       "      <td>-0.000949</td>\n",
       "      <td>0.019861</td>\n",
       "      <td>1.143610e+06</td>\n",
       "      <td>104</td>\n",
       "      <td>WMG</td>\n",
       "      <td>-0.047769</td>\n",
       "    </tr>\n",
       "    <tr>\n",
       "      <th>SDC</th>\n",
       "      <td>SmileDirectClub Inc.</td>\n",
       "      <td>0.004647</td>\n",
       "      <td>0.058970</td>\n",
       "      <td>7.084780e+06</td>\n",
       "      <td>148</td>\n",
       "      <td>SDC</td>\n",
       "      <td>0.078805</td>\n",
       "    </tr>\n",
       "    <tr>\n",
       "      <th>CIIC</th>\n",
       "      <td>CIIG Merger Corp.</td>\n",
       "      <td>0.000226</td>\n",
       "      <td>0.005179</td>\n",
       "      <td>5.949054e+04</td>\n",
       "      <td>148</td>\n",
       "      <td>CIIC</td>\n",
       "      <td>0.043645</td>\n",
       "    </tr>\n",
       "    <tr>\n",
       "      <th>TWST</th>\n",
       "      <td>Twist Bioscience Corporation</td>\n",
       "      <td>0.006444</td>\n",
       "      <td>0.041817</td>\n",
       "      <td>5.391939e+05</td>\n",
       "      <td>148</td>\n",
       "      <td>TWST</td>\n",
       "      <td>0.154088</td>\n",
       "    </tr>\n",
       "    <tr>\n",
       "      <th>SCOR</th>\n",
       "      <td>comScore Inc.</td>\n",
       "      <td>-0.002424</td>\n",
       "      <td>0.053969</td>\n",
       "      <td>3.474568e+05</td>\n",
       "      <td>148</td>\n",
       "      <td>SCOR</td>\n",
       "      <td>-0.044908</td>\n",
       "    </tr>\n",
       "    <tr>\n",
       "      <th>AKTX</th>\n",
       "      <td>Akari Therapeutics Plc.</td>\n",
       "      <td>0.000623</td>\n",
       "      <td>0.042364</td>\n",
       "      <td>2.607304e+05</td>\n",
       "      <td>148</td>\n",
       "      <td>AKTX</td>\n",
       "      <td>0.014701</td>\n",
       "    </tr>\n",
       "    <tr>\n",
       "      <th>CVCO</th>\n",
       "      <td>Cavco Industries Inc.</td>\n",
       "      <td>0.001388</td>\n",
       "      <td>0.043704</td>\n",
       "      <td>5.491081e+04</td>\n",
       "      <td>148</td>\n",
       "      <td>CVCO</td>\n",
       "      <td>0.031765</td>\n",
       "    </tr>\n",
       "    <tr>\n",
       "      <th>FARO</th>\n",
       "      <td>FARO Technologies Inc.</td>\n",
       "      <td>0.002188</td>\n",
       "      <td>0.027421</td>\n",
       "      <td>1.029743e+05</td>\n",
       "      <td>148</td>\n",
       "      <td>FARO</td>\n",
       "      <td>0.079806</td>\n",
       "    </tr>\n",
       "    <tr>\n",
       "      <th>BBQ</th>\n",
       "      <td>BBQ Holdings Inc.</td>\n",
       "      <td>0.005432</td>\n",
       "      <td>0.055401</td>\n",
       "      <td>3.234189e+04</td>\n",
       "      <td>148</td>\n",
       "      <td>BBQ</td>\n",
       "      <td>0.098051</td>\n",
       "    </tr>\n",
       "    <tr>\n",
       "      <th>FNLC</th>\n",
       "      <td>The First Bancorp Inc.</td>\n",
       "      <td>0.000394</td>\n",
       "      <td>0.038788</td>\n",
       "      <td>1.735338e+04</td>\n",
       "      <td>148</td>\n",
       "      <td>FNLC</td>\n",
       "      <td>0.010150</td>\n",
       "    </tr>\n",
       "    <tr>\n",
       "      <th>CMRX</th>\n",
       "      <td>Chimerix Inc.</td>\n",
       "      <td>0.004396</td>\n",
       "      <td>0.056290</td>\n",
       "      <td>6.996351e+05</td>\n",
       "      <td>148</td>\n",
       "      <td>CMRX</td>\n",
       "      <td>0.078093</td>\n",
       "    </tr>\n",
       "    <tr>\n",
       "      <th>TSLA</th>\n",
       "      <td>Tesla Inc.</td>\n",
       "      <td>0.009231</td>\n",
       "      <td>0.051397</td>\n",
       "      <td>6.173367e+07</td>\n",
       "      <td>148</td>\n",
       "      <td>TSLA</td>\n",
       "      <td>0.179594</td>\n",
       "    </tr>\n",
       "    <tr>\n",
       "      <th>NVCN</th>\n",
       "      <td>Neovasc Inc.</td>\n",
       "      <td>-0.002163</td>\n",
       "      <td>0.063092</td>\n",
       "      <td>3.831885e+05</td>\n",
       "      <td>148</td>\n",
       "      <td>NVCN</td>\n",
       "      <td>-0.034288</td>\n",
       "    </tr>\n",
       "    <tr>\n",
       "      <th>FEYE</th>\n",
       "      <td>FireEye Inc.</td>\n",
       "      <td>0.002017</td>\n",
       "      <td>0.033981</td>\n",
       "      <td>4.338584e+06</td>\n",
       "      <td>148</td>\n",
       "      <td>FEYE</td>\n",
       "      <td>0.059351</td>\n",
       "    </tr>\n",
       "    <tr>\n",
       "      <th>AGLE</th>\n",
       "      <td>Aeglea BioTherapeutics Inc.</td>\n",
       "      <td>0.003643</td>\n",
       "      <td>0.051456</td>\n",
       "      <td>2.971615e+05</td>\n",
       "      <td>148</td>\n",
       "      <td>AGLE</td>\n",
       "      <td>0.070800</td>\n",
       "    </tr>\n",
       "    <tr>\n",
       "      <th>FRSX</th>\n",
       "      <td>Foresight Autonomous Holdings Ltd.</td>\n",
       "      <td>0.002702</td>\n",
       "      <td>0.071295</td>\n",
       "      <td>3.167877e+06</td>\n",
       "      <td>148</td>\n",
       "      <td>FRSX</td>\n",
       "      <td>0.037906</td>\n",
       "    </tr>\n",
       "    <tr>\n",
       "      <th>ACCD</th>\n",
       "      <td>Accolade Inc.</td>\n",
       "      <td>0.049439</td>\n",
       "      <td>0.437649</td>\n",
       "      <td>4.818179e+05</td>\n",
       "      <td>84</td>\n",
       "      <td>ACCD</td>\n",
       "      <td>0.112965</td>\n",
       "    </tr>\n",
       "    <tr>\n",
       "      <th>IFRX</th>\n",
       "      <td>InflaRx N.V.</td>\n",
       "      <td>0.000511</td>\n",
       "      <td>0.070505</td>\n",
       "      <td>9.191764e+05</td>\n",
       "      <td>148</td>\n",
       "      <td>IFRX</td>\n",
       "      <td>0.007245</td>\n",
       "    </tr>\n",
       "    <tr>\n",
       "      <th>ATEC</th>\n",
       "      <td>Alphatec Holdings Inc.</td>\n",
       "      <td>0.006456</td>\n",
       "      <td>0.052735</td>\n",
       "      <td>6.467993e+05</td>\n",
       "      <td>148</td>\n",
       "      <td>ATEC</td>\n",
       "      <td>0.122427</td>\n",
       "    </tr>\n",
       "    <tr>\n",
       "      <th>SLAB</th>\n",
       "      <td>Silicon Laboratories Inc.146</td>\n",
       "      <td>0.001365</td>\n",
       "      <td>0.030976</td>\n",
       "      <td>3.160885e+05</td>\n",
       "      <td>148</td>\n",
       "      <td>SLAB</td>\n",
       "      <td>0.044064</td>\n",
       "    </tr>\n",
       "    <tr>\n",
       "      <th>FARM</th>\n",
       "      <td>Farmer Bros. Co.</td>\n",
       "      <td>-0.004606</td>\n",
       "      <td>0.056446</td>\n",
       "      <td>1.103453e+05</td>\n",
       "      <td>148</td>\n",
       "      <td>FARM</td>\n",
       "      <td>-0.081603</td>\n",
       "    </tr>\n",
       "    <tr>\n",
       "      <th>EXAS</th>\n",
       "      <td>Exact Sciences Corporation</td>\n",
       "      <td>0.004941</td>\n",
       "      <td>0.039400</td>\n",
       "      <td>1.767796e+06</td>\n",
       "      <td>148</td>\n",
       "      <td>EXAS</td>\n",
       "      <td>0.125411</td>\n",
       "    </tr>\n",
       "    <tr>\n",
       "      <th>NMRK</th>\n",
       "      <td>Newmark Group Inc.</td>\n",
       "      <td>0.000694</td>\n",
       "      <td>0.058167</td>\n",
       "      <td>1.410736e+06</td>\n",
       "      <td>148</td>\n",
       "      <td>NMRK</td>\n",
       "      <td>0.011938</td>\n",
       "    </tr>\n",
       "    <tr>\n",
       "      <th>NVCR</th>\n",
       "      <td>NovoCure Limited</td>\n",
       "      <td>0.004085</td>\n",
       "      <td>0.034035</td>\n",
       "      <td>9.828047e+05</td>\n",
       "      <td>148</td>\n",
       "      <td>NVCR</td>\n",
       "      <td>0.120031</td>\n",
       "    </tr>\n",
       "    <tr>\n",
       "      <th>FRTA</th>\n",
       "      <td>Forterra Inc.</td>\n",
       "      <td>0.005257</td>\n",
       "      <td>0.058227</td>\n",
       "      <td>5.407304e+05</td>\n",
       "      <td>148</td>\n",
       "      <td>FRTA</td>\n",
       "      <td>0.090289</td>\n",
       "    </tr>\n",
       "  </tbody>\n",
       "</table>\n",
       "</div>"
      ],
      "text/plain": [
       "                                   names         E     Sigma      mean_vol  \\\n",
       "OPTT        Ocean Power Technologies Inc  0.010764  0.103097  5.458718e+06   \n",
       "NMRD                Nemaura Medical Inc. -0.003255  0.071546  5.629865e+04   \n",
       "FNKO                          Funko Inc.  0.003318  0.055569  8.634486e+05   \n",
       "KLXE   KLX Energy Services Holdings Inc.  0.000851  0.094137  4.595615e+05   \n",
       "BBI                Brickell Biotech Inc. -0.005465  0.072325  1.785730e+06   \n",
       "WMG             Warner Music Group Corp. -0.000949  0.019861  1.143610e+06   \n",
       "SDC                 SmileDirectClub Inc.  0.004647  0.058970  7.084780e+06   \n",
       "CIIC                   CIIG Merger Corp.  0.000226  0.005179  5.949054e+04   \n",
       "TWST        Twist Bioscience Corporation  0.006444  0.041817  5.391939e+05   \n",
       "SCOR                       comScore Inc. -0.002424  0.053969  3.474568e+05   \n",
       "AKTX             Akari Therapeutics Plc.  0.000623  0.042364  2.607304e+05   \n",
       "CVCO               Cavco Industries Inc.  0.001388  0.043704  5.491081e+04   \n",
       "FARO              FARO Technologies Inc.  0.002188  0.027421  1.029743e+05   \n",
       "BBQ                    BBQ Holdings Inc.  0.005432  0.055401  3.234189e+04   \n",
       "FNLC              The First Bancorp Inc.  0.000394  0.038788  1.735338e+04   \n",
       "CMRX                       Chimerix Inc.  0.004396  0.056290  6.996351e+05   \n",
       "TSLA                          Tesla Inc.  0.009231  0.051397  6.173367e+07   \n",
       "NVCN                        Neovasc Inc. -0.002163  0.063092  3.831885e+05   \n",
       "FEYE                        FireEye Inc.  0.002017  0.033981  4.338584e+06   \n",
       "AGLE         Aeglea BioTherapeutics Inc.  0.003643  0.051456  2.971615e+05   \n",
       "FRSX  Foresight Autonomous Holdings Ltd.  0.002702  0.071295  3.167877e+06   \n",
       "ACCD                       Accolade Inc.  0.049439  0.437649  4.818179e+05   \n",
       "IFRX                        InflaRx N.V.  0.000511  0.070505  9.191764e+05   \n",
       "ATEC              Alphatec Holdings Inc.  0.006456  0.052735  6.467993e+05   \n",
       "SLAB        Silicon Laboratories Inc.146  0.001365  0.030976  3.160885e+05   \n",
       "FARM                    Farmer Bros. Co. -0.004606  0.056446  1.103453e+05   \n",
       "EXAS          Exact Sciences Corporation  0.004941  0.039400  1.767796e+06   \n",
       "NMRK                  Newmark Group Inc.  0.000694  0.058167  1.410736e+06   \n",
       "NVCR                    NovoCure Limited  0.004085  0.034035  9.828047e+05   \n",
       "FRTA                       Forterra Inc.  0.005257  0.058227  5.407304e+05   \n",
       "\n",
       "     n_observations symbol     sharp  \n",
       "OPTT            148   OPTT  0.104408  \n",
       "NMRD            148   NMRD -0.045489  \n",
       "FNKO            148   FNKO  0.059712  \n",
       "KLXE            148   KLXE  0.009044  \n",
       "BBI             148    BBI -0.075563  \n",
       "WMG             104    WMG -0.047769  \n",
       "SDC             148    SDC  0.078805  \n",
       "CIIC            148   CIIC  0.043645  \n",
       "TWST            148   TWST  0.154088  \n",
       "SCOR            148   SCOR -0.044908  \n",
       "AKTX            148   AKTX  0.014701  \n",
       "CVCO            148   CVCO  0.031765  \n",
       "FARO            148   FARO  0.079806  \n",
       "BBQ             148    BBQ  0.098051  \n",
       "FNLC            148   FNLC  0.010150  \n",
       "CMRX            148   CMRX  0.078093  \n",
       "TSLA            148   TSLA  0.179594  \n",
       "NVCN            148   NVCN -0.034288  \n",
       "FEYE            148   FEYE  0.059351  \n",
       "AGLE            148   AGLE  0.070800  \n",
       "FRSX            148   FRSX  0.037906  \n",
       "ACCD             84   ACCD  0.112965  \n",
       "IFRX            148   IFRX  0.007245  \n",
       "ATEC            148   ATEC  0.122427  \n",
       "SLAB            148   SLAB  0.044064  \n",
       "FARM            148   FARM -0.081603  \n",
       "EXAS            148   EXAS  0.125411  \n",
       "NMRK            148   NMRK  0.011938  \n",
       "NVCR            148   NVCR  0.120031  \n",
       "FRTA            148   FRTA  0.090289  "
      ]
     },
     "execution_count": 7,
     "metadata": {},
     "output_type": "execute_result"
    }
   ],
   "source": [
    "ixic_stat['sharp'] = ixic_stat['E'] / (ixic_stat['Sigma'])\n",
    "ixic_stat"
   ]
  },
  {
   "cell_type": "code",
   "execution_count": 18,
   "metadata": {},
   "outputs": [],
   "source": [
    "def get_return_mean_cov(df, sse_components=False): \n",
    "    \n",
    "    # получить по выбранным активам матрицу их доходностей, \n",
    "    # вектор средних доходностей и матрицу ковариации\n",
    "    \n",
    "    r_matrix = {}\n",
    "    if sse_components:\n",
    "        for i in range(len(df)):\n",
    "            symbol = df.index[i]\n",
    "            r_matrix[symbol] = sse_stocks[symbol]['log_return']\n",
    "    else:\n",
    "        for symbol in df['symbol']:\n",
    "            r_matrix[symbol] = ixic_stocks[symbol]['log_return'] \n",
    "    r_df = pd.DataFrame(r_matrix).dropna()\n",
    "    return r_df.values, r_df.mean().values, r_df.cov().values\n",
    "\n",
    "def plot_mean_var_map(df,x='Sigma', y='E', title='Карта активов:σ от E', figsize=(12, 6)):\n",
    "    ax = df.plot(x=x, y=y, s=np.log(df['mean_vol']**3), \n",
    "                          kind='scatter', \n",
    "                          figsize=figsize, \n",
    "                          edgecolor='black',\n",
    "                          grid=True)\n",
    "    plt.xlabel('Sigma', size=15)\n",
    "    plt.ylabel('E', size=15)\n",
    "    plt.title(title, size=16)"
   ]
  },
  {
   "cell_type": "code",
   "execution_count": 19,
   "metadata": {},
   "outputs": [
    {
     "data": {
      "image/png": "[encoded data removed]",
      "text/plain": [
       "<Figure size 864x432 with 1 Axes>"
      ]
     },
     "metadata": {},
     "output_type": "display_data"
    }
   ],
   "source": [
    "plot_mean_var_map(ixic_stat)"
   ]
  },
  {
   "cell_type": "code",
   "execution_count": 25,
   "metadata": {},
   "outputs": [
    {
     "data": {
      "application/vnd.jupyter.widget-view+json": {
       "model_id": "73fd23028cd2404a98141708014224a4",
       "version_major": 2,
       "version_minor": 0
      },
      "text/plain": [
       "HBox(children=(FloatProgress(value=0.0, max=500.0), HTML(value='')))"
      ]
     },
     "metadata": {},
     "output_type": "display_data"
    },
    {
     "name": "stdout",
     "output_type": "stream",
     "text": [
      "\n"
     ]
    }
   ],
   "source": [
    "psigmas_ns = []\n",
    "preturns_ns = []\n",
    "bounds = ((0.0, 1.0),) \n",
    "r_matrix, mean_vec, cov_matrix = get_return_mean_cov(ixic_stat)\n",
    "\n",
    "\n",
    "X_min_risk_ns = optimize_portfolio(risk_porfolio,\n",
    "                                   r_matrix,\n",
    "                                   mean_vec,\n",
    "                                   cov_matrix,\n",
    "                                   bounds)\n",
    "min_risk_ns = risk_porfolio(X_min_risk_ns, cov_matrix)\n",
    "min_risk_preturn_ns = np.dot(X_min_risk_ns, mean_vec)\n",
    "target_range = np.linspace(min_risk_preturn_ns, 0.1, 500)\n",
    "\n",
    "\n",
    "for portfolio_return in tqdm_notebook(target_range):\n",
    "    X_ns = optimize_portfolio(risk_porfolio,\n",
    "                                       r_matrix,\n",
    "                                       mean_vec,\n",
    "                                       cov_matrix,\n",
    "                                       bounds, \n",
    "                                       target_return=portfolio_return)\n",
    "    psigmas_ns.append(risk_porfolio(X_ns, cov_matrix))\n",
    "    preturns_ns.append(np.dot(X_ns, mean_vec))"
   ]
  },
  {
   "cell_type": "code",
   "execution_count": 28,
   "metadata": {},
   "outputs": [
    {
     "data": {
      "image/png": "[encoded data removed]",
      "text/plain": [
       "<Figure size 864x432 with 1 Axes>"
      ]
     },
     "metadata": {},
     "output_type": "display_data"
    }
   ],
   "source": [
    "plot_mean_var_map(ixic_stat, title='Карта активов и эффективный фронт')\n",
    "plt.plot(psigmas_ns, preturns_ns, 'r--', label='Эффективный фронт без коротких продаж')\n",
    "plt.scatter(min_risk_ns, \n",
    "            min_risk_preturn_ns,\n",
    "            c='green',\n",
    "            marker='*', \n",
    "            s=300, \n",
    "            edgecolors='black',\n",
    "            label='Портфель с мин. риском без коротких продаж')\n",
    "plt.legend()\n",
    "plt.show()"
   ]
  },
  {
   "cell_type": "markdown",
   "metadata": {},
   "source": [
    "## 2. Local Search отбора активов"
   ]
  },
  {
   "cell_type": "code",
   "execution_count": 20,
   "metadata": {},
   "outputs": [],
   "source": [
    "from scipy.optimize import minimize\n",
    "\n",
    "def risk_porfolio(X, cov_matrix, n_observations=1, sqrt=True):\n",
    "    # риск портфеля\n",
    "    if sqrt:\n",
    "        return np.sqrt(np.dot(np.dot(X, cov_matrix), X.T))\n",
    "    else:\n",
    "        return np.dot(np.dot(X, cov_matrix), X.T) / np.sqrt(n_observations)\n",
    "\n",
    "def optimize_portfolio(risk_porfolio,\n",
    "                       returns,\n",
    "                       mean_returns, \n",
    "                       cov_matrix, \n",
    "                       bounds,\n",
    "                       target_return=None):\n",
    "    \n",
    "    # оптимизатор с итеративным методом МНК SLSQP\n",
    "    # решает задачу мимнимизации уравнения Лагранжа \n",
    "    \n",
    "    X = np.ones(returns.shape[1])\n",
    "    X = X / X.sum()\n",
    "    bounds = bounds * returns.shape[1]\n",
    "\n",
    "    constraints=[]\n",
    "    constraints.append({'type': 'eq', 'fun': lambda X: np.sum(X) - 1.0})\n",
    "    if target_return:\n",
    "        constraints.append({'type': 'eq', \n",
    "                            'args': (mean_returns,), \n",
    "                            'fun': lambda X, mean_returns: portfolio_return - np.dot(X, mean_returns)})\n",
    "\n",
    "    return minimize(risk_porfolio, X,\n",
    "                    args=(cov_matrix, returns.shape[0]), \n",
    "                    method='SLSQP',\n",
    "                    constraints=constraints,\n",
    "                    bounds=bounds).x"
   ]
  },
  {
   "cell_type": "code",
   "execution_count": 181,
   "metadata": {},
   "outputs": [],
   "source": [
    "from itertools import combinations\n",
    "import copy\n",
    "\n",
    "class IteratedLocalSearch:\n",
    "    \n",
    "    def __init__(self, \n",
    "                 solution, \n",
    "                 stocks,\n",
    "                 verbose=False,\n",
    "                 n_iter=100):\n",
    "    \n",
    "        self.solution = solution\n",
    "        self.stocks = stocks\n",
    "        self.n = solution.shape[0]\n",
    "        self.verbose = verbose\n",
    "        self.n_iter = n_iter\n",
    "        self.k_bounds  = {'min': int(self.n * 0.5),\n",
    "                          'max': int(self.n * 0.75),\n",
    "                          'curr': int(self.n * 0.5)}\n",
    "        self.history = []\n",
    "        \n",
    "    \n",
    "    def LocalSearchSolver(self):\n",
    "        alg = LocalSearch(self.solution, self.stocks)\n",
    "        local_search_solve = alg.first_improvement()\n",
    "        return local_search_solve, alg.cur_cost\n",
    "    \n",
    "           \n",
    "    def perturbation(self):\n",
    "        start_ind = random.randint(0, self.n - self.k_bounds['curr'])\n",
    "        end_ind = start_ind + self.k_bounds['curr']\n",
    "        if end_ind > self.n:\n",
    "            end_ind = int(end_ind % self.n)\n",
    "            self.solution[start_ind:self.n] = np.random.permutation(self.solution[start_ind:end_ind])\n",
    "            self.solution[0:end_ind] = np.random.permutation(self.solution[0:end_ind])\n",
    "        else:\n",
    "            self.solution[start_ind:end_ind] = np.random.permutation(self.solution[start_ind:end_ind])\n",
    "            \n",
    "    def solve(self):\n",
    "        \n",
    "        self.solution, self.cur_cost = self.LocalSearchSolver()\n",
    "        if self.verbose:\n",
    "            print('Start cost: {}'.format(self.cur_cost))\n",
    "        self.last_state = 0\n",
    "        self.best_solution = self.solution\n",
    "        for i in tqdm_notebook(range(self.n_iter),\n",
    "                               position=0,\n",
    "                               disable=not self.verbose):\n",
    "            self.perturbation()\n",
    "            local_search_solve, cost = self.LocalSearchSolver()\n",
    "            self.history.append(cost)\n",
    "            if cost < self.cur_cost:\n",
    "                self.cur_cost = cost\n",
    "                self.solution = copy.copy(local_search_solve)\n",
    "                self.best_solution = copy.copy(local_search_solve)\n",
    "                self.last_state = i\n",
    "\n",
    "                self.k_bounds['curr'] += 1\n",
    "                if self.k_bounds['curr'] == self.k_bounds['max']:\n",
    "                    self.k_bounds['curr'] = self.k_bounds['min']\n",
    "            else:\n",
    "                self.k_bounds['curr'] = self.k_bounds['min']\n",
    "\n",
    "        if self.verbose:\n",
    "            print('End cost: {}'.format(self.cur_cost))\n",
    "        self.solution = self.best_solution\n",
    "        return self.solution\n",
    "    \n",
    "    def get_history(self):\n",
    "        plt.figure(figsize=(10, 4))\n",
    "        plt.plot(self.history, label='функция потерь')\n",
    "        plt.plot(self.last_state,\n",
    "                 self.history[self.last_state],\n",
    "                 'o', label='выбранный оптимум')\n",
    "        plt.grid()\n",
    "        plt.legend()\n",
    "        return self.history\n",
    "        \n",
    "\n",
    "class LocalSearch:\n",
    "    \n",
    "    def __init__(self, \n",
    "                 solution, \n",
    "                 stocks,\n",
    "                 verbose=False,\n",
    "                 n_iter=4):\n",
    "        self.solution = solution\n",
    "        self.stocks = stocks\n",
    "        self.n = solution.shape[0]\n",
    "        self.verbose = verbose\n",
    "        self.cur_cost = self.cost_function(solution)\n",
    "        self.n_iter = n_iter\n",
    " \n",
    "    def cost_function(self, solution):\n",
    "        X  =  np.ones(20) / 20 \n",
    "        r_matrix, mean_vec, cov_matrix = get_return_mean_cov(self.stocks[solution==1])\n",
    "        return - np.dot(mean_vec, X) / risk_porfolio(X, cov_matrix)\n",
    "    \n",
    "        \n",
    "    def first_improvement(self):\n",
    "\n",
    "        if self.verbose:\n",
    "            print('Start cost {}'.format(round(self.cur_cost,3)))\n",
    "\n",
    "        comb       = list(combinations(np.arange(self.n, dtype=np.int32), 2))\n",
    "        dont_look  = {x:np.zeros(self.n, dtype=np.int32) for x in range(self.n)}\n",
    "        for i in tqdm_notebook(range(self.n_iter),\n",
    "                      position=0,\n",
    "                      disable=not self.verbose):\n",
    "\n",
    "            flag = True\n",
    "            for opt in comb:\n",
    "                if (sum(dont_look[opt[0]]) >= 19 or\n",
    "                    sum(dont_look[opt[1]]) >= 19):\n",
    "                    continue\n",
    "                opt = list(opt)\n",
    "                tmp_solution      = copy.copy(self.solution)\n",
    "                tmp_solution[opt] = tmp_solution[opt][::-1]\n",
    "                cost = self.cost_function(tmp_solution)\n",
    "                if cost < self.cur_cost:\n",
    "                    self.cur_cost = cost\n",
    "                    self.solution = tmp_solution\n",
    "                    flag = False\n",
    "                    break\n",
    "                dont_look[opt[0]][opt[1]] = 1\n",
    "                dont_look[opt[1]][opt[0]] = 1\n",
    "            if flag and self.verbose:\n",
    "                print('No better solutions, stoping...')\n",
    "                break\n",
    "\n",
    "        if self.verbose:\n",
    "            end_cost = self.cost_function(self.solution)\n",
    "            print('End cost {}'.format(round(end_cost, 3)))\n",
    "        return self.solution"
   ]
  },
  {
   "cell_type": "code",
   "execution_count": 183,
   "metadata": {},
   "outputs": [],
   "source": [
    "import random\n",
    "\n",
    "initial_solution = np.zeros(ixic_stat.shape[0] , dtype=np.int)\n",
    "arange = np.arange(ixic_stat.shape[0])\n",
    "initial_solution[random.sample(arange.tolist(), k=20)] = 1\n",
    "# ixic_stat[initial_solution==1]"
   ]
  },
  {
   "cell_type": "code",
   "execution_count": 184,
   "metadata": {},
   "outputs": [],
   "source": [
    "lsearch = IteratedLocalSearch(initial_solution, ixic_stat, n_iter=200, verbose=True)"
   ]
  },
  {
   "cell_type": "code",
   "execution_count": 185,
   "metadata": {},
   "outputs": [
    {
     "name": "stdout",
     "output_type": "stream",
     "text": [
      "Start cost: -0.08996011402071699\n"
     ]
    },
    {
     "data": {
      "application/vnd.jupyter.widget-view+json": {
       "model_id": "48ad7ea429164b7b898a0a507eebb50b",
       "version_major": 2,
       "version_minor": 0
      },
      "text/plain": [
       "HBox(children=(FloatProgress(value=0.0, max=200.0), HTML(value='')))"
      ]
     },
     "metadata": {},
     "output_type": "display_data"
    },
    {
     "name": "stdout",
     "output_type": "stream",
     "text": [
      "\n",
      "End cost: -0.18536385232504432\n"
     ]
    }
   ],
   "source": [
    "solution = lsearch.solve()\n",
    "selected20 = ixic_stat[solution==1]"
   ]
  },
  {
   "cell_type": "code",
   "execution_count": 186,
   "metadata": {},
   "outputs": [
    {
     "data": {
      "image/png": "[encoded data removed]",
      "text/plain": [
       "<Figure size 720x288 with 1 Axes>"
      ]
     },
     "metadata": {},
     "output_type": "display_data"
    }
   ],
   "source": [
    "_ = lsearch.get_history()"
   ]
  },
  {
   "cell_type": "code",
   "execution_count": 187,
   "metadata": {},
   "outputs": [],
   "source": [
    "r_matrix, mean_vec, cov_matrix = get_return_mean_cov(selected20)"
   ]
  },
  {
   "cell_type": "code",
   "execution_count": 188,
   "metadata": {},
   "outputs": [
    {
     "data": {
      "image/png": "[encoded data removed]",
      "text/plain": [
       "<Figure size 864x432 with 1 Axes>"
      ]
     },
     "metadata": {},
     "output_type": "display_data"
    }
   ],
   "source": [
    "plot_mean_var_map(selected20, title='Карта выбранных 20 активов')"
   ]
  },
  {
   "cell_type": "code",
   "execution_count": 189,
   "metadata": {},
   "outputs": [
    {
     "data": {
      "application/vnd.jupyter.widget-view+json": {
       "model_id": "4b6c669fc1b44112b7061c0034290176",
       "version_major": 2,
       "version_minor": 0
      },
      "text/plain": [
       "HBox(children=(FloatProgress(value=0.0), HTML(value='')))"
      ]
     },
     "metadata": {},
     "output_type": "display_data"
    },
    {
     "name": "stdout",
     "output_type": "stream",
     "text": [
      "\n"
     ]
    }
   ],
   "source": [
    "psigmas_ns20 = []\n",
    "preturns_ns20 = []\n",
    "bounds = ((0.0, 1.0),) \n",
    "r_matrix, mean_vec, cov_matrix = get_return_mean_cov(selected20)\n",
    "\n",
    "\n",
    "X_min_risk_ns20 = optimize_portfolio(risk_porfolio,\n",
    "                                   r_matrix,\n",
    "                                   mean_vec,\n",
    "                                   cov_matrix,\n",
    "                                   bounds)\n",
    "min_risk_ns20 = risk_porfolio(X_min_risk_ns20, cov_matrix)\n",
    "min_risk_preturn_ns20 = np.dot(X_min_risk_ns20, mean_vec)\n",
    "target_range = np.linspace(min_risk_preturn_ns20, 0.2, 100)\n",
    "\n",
    "\n",
    "for portfolio_return in tqdm_notebook(target_range):\n",
    "    X_ns20 = optimize_portfolio(risk_porfolio,\n",
    "                                       r_matrix,\n",
    "                                       mean_vec,\n",
    "                                       cov_matrix,\n",
    "                                       bounds, \n",
    "                                       target_return=portfolio_return)\n",
    "    psigmas_ns20.append(risk_porfolio(X_ns20, cov_matrix))\n",
    "    preturns_ns20.append(np.dot(X_ns20, mean_vec))"
   ]
  },
  {
   "cell_type": "code",
   "execution_count": 190,
   "metadata": {},
   "outputs": [
    {
     "data": {
      "image/png": "[encoded data removed]",
      "text/plain": [
       "<Figure size 864x432 with 1 Axes>"
      ]
     },
     "metadata": {},
     "output_type": "display_data"
    }
   ],
   "source": [
    "plot_mean_var_map(selected20, title='Карта активов и эффективный фронт')\n",
    "plt.plot(psigmas_ns20, preturns_ns20, 'r--', label='Эффективный фронт без коротких продаж')\n",
    "plt.scatter(min_risk_ns20, \n",
    "            min_risk_preturn_ns20,\n",
    "            c='green',\n",
    "            marker='*', \n",
    "            s=300, \n",
    "            edgecolors='black',\n",
    "            label='Портфель с мин. риском без коротких продаж')\n",
    "plt.legend()\n",
    "plt.show()"
   ]
  },
  {
   "cell_type": "markdown",
   "metadata": {},
   "source": [
    "## 3. Выбор оптимального портфеля по Шарпу с эфф фронта"
   ]
  },
  {
   "cell_type": "code",
   "execution_count": 204,
   "metadata": {},
   "outputs": [],
   "source": [
    "from scipy import optimize\n",
    "def objective_function(x, cov_matix, mean_vector, risk_free_mean):\n",
    "    f = float(-(x.dot(mean_vector) - risk_free_mean) / np.sqrt(np.dot(np.dot(x, cov_matrix), x.T)))\n",
    "    return f\n",
    "\n",
    "\n",
    "def optimal_portfolio_sharp_ratio(profits, risk_free_mean, N, cov_matrix,returns,bounds):\n",
    "    X = np.ones(N)\n",
    "    X = X / X.sum()\n",
    "    bounds = bounds * N\n",
    "    constraints=[]\n",
    "    constraints.append({'type': 'eq', 'fun': lambda X: np.sum(X) - 1.0})\n",
    "    minimize = optimize.minimize(objective_function, X,\n",
    "                    args=(cov_matrix, returns, risk_free_mean,), method='SLSQP',\n",
    "                    constraints=constraints,\n",
    "                    bounds=bounds).x\n",
    "    return minimize\n",
    "\n",
    "def optimal_portfolio_computing(data,risk_free_asset, allow_short = False):\n",
    "    results = {}\n",
    "    risk_free_mean = risk_free_asset['E'].values[0]\n",
    "    N = len(data)\n",
    "    r_matrix, _, cov_matrix = get_return_mean_cov(data)\n",
    "    E = data['E'].values\n",
    "    bounds = ((-1, 1),) if allow_short else ((0, 1),)\n",
    "    optim_portfolio_weights =  optimal_portfolio_sharp_ratio(selected10,risk_free_mean,N,cov_matrix,E, bounds)\n",
    "    results['optim_weights'] = optim_portfolio_weights\n",
    "    results['best_sharp_sigma'] = risk_porfolio(optim_portfolio_weights, cov_matrix)\n",
    "    results['best_sharp_return'] = np.dot(optim_portfolio_weights, E)\n",
    "    results['losses'] = -np.dot(r_matrix, optim_portfolio_weights)\n",
    "    return results\n",
    "    \n",
    "def plot_optimal_sharp_ratio_portfolio_method(data, best_sharp_sigma, best_sharp_return, short=False):\n",
    "    plot_mean_var_map(data, title='Карта активов')\n",
    "    short_sales_word = 'разрешением' if short else 'запретом'\n",
    "    plt.scatter(best_sharp_sigma, best_sharp_return,\n",
    "                marker='*', s=300, \n",
    "                label='Портфель максимальный по индексу шарпу с ' + short_sales_word + ' коротких продаж', \n",
    "                edgecolors='red')\n",
    "    plt.legend()"
   ]
  },
  {
   "cell_type": "code",
   "execution_count": 205,
   "metadata": {},
   "outputs": [
    {
     "data": {
      "text/html": [
       "<div>\n",
       "<style scoped>\n",
       "    .dataframe tbody tr th:only-of-type {\n",
       "        vertical-align: middle;\n",
       "    }\n",
       "\n",
       "    .dataframe tbody tr th {\n",
       "        vertical-align: top;\n",
       "    }\n",
       "\n",
       "    .dataframe thead th {\n",
       "        text-align: right;\n",
       "    }\n",
       "</style>\n",
       "<table border=\"1\" class=\"dataframe\">\n",
       "  <thead>\n",
       "    <tr style=\"text-align: right;\">\n",
       "      <th></th>\n",
       "      <th>names</th>\n",
       "      <th>E</th>\n",
       "      <th>Sigma</th>\n",
       "      <th>mean_vol</th>\n",
       "      <th>n_observations</th>\n",
       "      <th>symbol</th>\n",
       "      <th>sharp</th>\n",
       "    </tr>\n",
       "  </thead>\n",
       "  <tbody>\n",
       "    <tr>\n",
       "      <th>CIIC</th>\n",
       "      <td>CIIG Merger Corp.</td>\n",
       "      <td>0.000226</td>\n",
       "      <td>0.005179</td>\n",
       "      <td>59490.540541</td>\n",
       "      <td>148</td>\n",
       "      <td>CIIC</td>\n",
       "      <td>0.043645</td>\n",
       "    </tr>\n",
       "  </tbody>\n",
       "</table>\n",
       "</div>"
      ],
      "text/plain": [
       "                  names         E     Sigma      mean_vol n_observations  \\\n",
       "CIIC  CIIG Merger Corp.  0.000226  0.005179  59490.540541            148   \n",
       "\n",
       "     symbol     sharp  \n",
       "CIIC   CIIC  0.043645  "
      ]
     },
     "execution_count": 205,
     "metadata": {},
     "output_type": "execute_result"
    }
   ],
   "source": [
    "risk_free = selected20.sort_values(['Sigma']).head(1)\n",
    "risk_free"
   ]
  },
  {
   "cell_type": "code",
   "execution_count": 206,
   "metadata": {},
   "outputs": [],
   "source": [
    "long_results = optimal_portfolio_computing(selected20, risk_free, allow_short=False)"
   ]
  },
  {
   "cell_type": "code",
   "execution_count": 207,
   "metadata": {},
   "outputs": [
    {
     "data": {
      "image/png": "[encoded data removed]",
      "text/plain": [
       "<Figure size 432x144 with 1 Axes>"
      ]
     },
     "metadata": {},
     "output_type": "display_data"
    }
   ],
   "source": [
    "def plot_weights_histogram(weights, data):\n",
    "    plt.figure(figsize=(6,2))\n",
    "    try:\n",
    "        x_values = data['symbol'].values\n",
    "    except:\n",
    "        x_values = data['names'].values\n",
    "    x = np.arange(len(weights))\n",
    "    plt.xlabel('Акция')\n",
    "    plt.ylabel('Вес')\n",
    "    height = weights\n",
    "    plt.bar(x, height=height)\n",
    "    plt.xticks(x, x_values, rotation='50')\n",
    "    plt.grid()\n",
    "    \n",
    "plot_weights_histogram(long_results['optim_weights'], selected20)"
   ]
  },
  {
   "cell_type": "code",
   "execution_count": 208,
   "metadata": {},
   "outputs": [
    {
     "data": {
      "image/png": "[encoded data removed]",
      "text/plain": [
       "<Figure size 864x432 with 1 Axes>"
      ]
     },
     "metadata": {},
     "output_type": "display_data"
    }
   ],
   "source": [
    "plot_optimal_sharp_ratio_portfolio_method(selected20, \n",
    "                                          long_results['best_sharp_sigma'],\n",
    "                                          long_results['best_sharp_return'], \n",
    "                                          short=False)"
   ]
  },
  {
   "cell_type": "markdown",
   "metadata": {},
   "source": [
    "## 4. Сумму под риском на 31 день вперед"
   ]
  },
  {
   "cell_type": "code",
   "execution_count": 209,
   "metadata": {},
   "outputs": [],
   "source": [
    "def VaR_info(losses):\n",
    "    confidence_lvl = [0.9, 0.95, 0.99]\n",
    "    VaR = {}\n",
    "    for clvl in confidence_lvl:\n",
    "        loss = losses[np.isfinite(losses)]\n",
    "        VaR[clvl] = np.quantile(loss, clvl) * np.sqrt(31)\n",
    "        print(' - Потери не превысят %.4f с %.2f%s уверенностью.' % (VaR[clvl], clvl, '%'))"
   ]
  },
  {
   "cell_type": "code",
   "execution_count": 210,
   "metadata": {},
   "outputs": [
    {
     "name": "stdout",
     "output_type": "stream",
     "text": [
      "Потери через 31 день\n",
      " - Потери не превысят 0.1239 с 0.90% уверенностью.\n",
      " - Потери не превысят 0.1631 с 0.95% уверенностью.\n",
      " - Потери не превысят 0.2165 с 0.99% уверенностью.\n"
     ]
    }
   ],
   "source": [
    "print('Потери через 31 день')\n",
    "VaR_info(long_results['losses'])"
   ]
  },
  {
   "cell_type": "markdown",
   "metadata": {},
   "source": [
    "## 5. Рассчитать доходность на 31 день вперёд"
   ]
  },
  {
   "cell_type": "code",
   "execution_count": 211,
   "metadata": {},
   "outputs": [],
   "source": [
    "# Веса нашего портфеля\n",
    "X = long_results['optim_weights']"
   ]
  },
  {
   "cell_type": "code",
   "execution_count": 212,
   "metadata": {},
   "outputs": [],
   "source": [
    "r_matrix, mean_vec, cov_matrix = get_return_mean_cov(selected20)"
   ]
  },
  {
   "cell_type": "code",
   "execution_count": 213,
   "metadata": {},
   "outputs": [],
   "source": [
    "portfolioE = np.dot(mean_vec, X)\n",
    "portfolioRisk = risk_porfolio(X, cov_matrix)"
   ]
  },
  {
   "cell_type": "code",
   "execution_count": 214,
   "metadata": {},
   "outputs": [
    {
     "name": "stdout",
     "output_type": "stream",
     "text": [
      "Доходность портфеля:  0.0058 Риск портфеля:  0.0248\n"
     ]
    }
   ],
   "source": [
    "print('Доходность портфеля: ', round(portfolioE,4), 'Риск портфеля: ', round(portfolioRisk,4))"
   ]
  },
  {
   "cell_type": "code",
   "execution_count": 215,
   "metadata": {},
   "outputs": [
    {
     "name": "stdout",
     "output_type": "stream",
     "text": [
      "Return 100578.7\n"
     ]
    }
   ],
   "source": [
    "investment =  100000 # USA $\n",
    "print('Return', round(investment + investment*portfolioE,1))"
   ]
  },
  {
   "cell_type": "markdown",
   "metadata": {},
   "source": [
    "## 6. Прогнозирование поведения портфеля"
   ]
  },
  {
   "cell_type": "code",
   "execution_count": null,
   "metadata": {},
   "outputs": [],
   "source": [
    "# Google Collab - pip install -U yfinance numpy pandas fbprophet matplotlib pytrends pystan\n",
    "# Stocker.py засунуть в отдельную ячейку\n",
    "import yfinance as yf\n",
    "#import quandl\n",
    "import pandas as pd\n",
    "import numpy as np\n",
    "import fbprophet\n",
    "import pytrends\n",
    "from pytrends.request import TrendReq\n",
    "import yfinance\n",
    "# matplotlib pyplot for plotting\n",
    "import matplotlib.pyplot as plt\n",
    "\n",
    "import matplotlib"
   ]
  },
  {
   "cell_type": "code",
   "execution_count": 216,
   "metadata": {},
   "outputs": [
    {
     "data": {
      "text/plain": [
       "(84,)"
      ]
     },
     "execution_count": 216,
     "metadata": {},
     "output_type": "execute_result"
    }
   ],
   "source": [
    "# доходности портфеля\n",
    "r_matrix, mean_vec, cov_matrix = get_return_mean_cov(selected20)\n",
    "portfolio_returns =  np.dot(r_matrix, X)\n",
    "portfolio_returns.shape"
   ]
  },
  {
   "cell_type": "code",
   "execution_count": 218,
   "metadata": {},
   "outputs": [
    {
     "data": {
      "image/png": "[encoded data removed]",
      "text/plain": [
       "<Figure size 864x288 with 1 Axes>"
      ]
     },
     "metadata": {},
     "output_type": "display_data"
    }
   ],
   "source": [
    "plt.figure(figsize=(12,4))\n",
    "plt.plot(portfolio_returns)\n",
    "plt.grid()\n",
    "pass"
   ]
  },
  {
   "cell_type": "code",
   "execution_count": null,
   "metadata": {},
   "outputs": [],
   "source": []
  },
  {
   "cell_type": "code",
   "execution_count": null,
   "metadata": {},
   "outputs": [],
   "source": []
  },
  {
   "cell_type": "code",
   "execution_count": null,
   "metadata": {},
   "outputs": [],
   "source": []
  },
  {
   "cell_type": "code",
   "execution_count": null,
   "metadata": {},
   "outputs": [],
   "source": [
    "ixic_prophet = Stocker(\"^IXIC\", ixic, start, end)\n",
    "model, model_data = ixic_prophet.create_prophet_model(days=30)"
   ]
  },
  {
   "cell_type": "code",
   "execution_count": null,
   "metadata": {},
   "outputs": [],
   "source": [
    "# веса равнодолевого портфеля\n",
    "weights = [1 / len(ixic_stocks)] * len(ixic_stocks)"
   ]
  },
  {
   "cell_type": "code",
   "execution_count": 56,
   "metadata": {},
   "outputs": [],
   "source": [
    "# тупо умножаю все данные в тикере на соответствующий вес, не знаю сработает ли это, но по сути: тикеры индекса\n",
    "# вроде как состовляются по такому же принципу (например, равнодолевой SSE)\n",
    "def get_weighted_data(weights, ixic_stocks):\n",
    "    keys = list(ixic_stocks.keys())\n",
    "    df = pd.DataFrame()\n",
    "    for i, w in enumerate(weights):\n",
    "        df = w * ixic_stocks[keys[i]] if i == 0 else df + w * ixic_stocks[keys[i]]\n",
    "    return df"
   ]
  },
  {
   "cell_type": "code",
   "execution_count": null,
   "metadata": {},
   "outputs": [],
   "source": [
    "df = get_weighted_data(weights, ixic_stocks)"
   ]
  },
  {
   "cell_type": "code",
   "execution_count": null,
   "metadata": {},
   "outputs": [],
   "source": [
    "portfolio_prophet = Stocker(\"Равнодолевой портфель\", df, start, end)\n",
    "model, model_data = portfolio_prophet.create_prophet_model(days=30)"
   ]
  }
 ],
 "metadata": {
  "kernelspec": {
   "display_name": "Python 3",
   "language": "python",
   "name": "python3"
  },
  "language_info": {
   "codemirror_mode": {
    "name": "ipython",
    "version": 3
   },
   "file_extension": ".py",
   "mimetype": "text/x-python",
   "name": "python",
   "nbconvert_exporter": "python",
   "pygments_lexer": "ipython3",
   "version": "3.7.7"
  }
 },
 "nbformat": 4,
 "nbformat_minor": 4
}
